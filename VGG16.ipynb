{
  "cells": [
    {
      "cell_type": "markdown",
      "metadata": {
        "id": "suuULmE-AkbO"
      },
      "source": [
        "# **Pre-trained network (VGG 16)**\n",
        "\n",
        "A common and highly effective approach to deep learning on small image datasets is to leverage a pre-trained network. A pre-trained network is simply a saved network previously trained on a large dataset, typically on a large-scale image classification task. If this original dataset is large enough and general enough, then the spatial feature hierarchy learned by the pre-trained network can effectively act as a generic model of our visual world, and hence its features can prove useful for many different computer vision problems, even though these new problems might involve completely different classes from those of the original task. For instance, one might train a network on ImageNet (where classes are mostly animals and everyday objects) and then re-purpose this trained network for something as remote as identifying furniture items in images. Such portability of learned features across different problems is a key advantage of deep learning compared to many older shallow learning approaches, and it makes deep learning very effective for small-data problems.\n",
        "\n",
        "During this exercise we will use the VGG16 architecture, developed by Karen Simonyan and Andrew Zisserman in 2014, a simple and widely used convnet architecture for ImageNet. Some another pre-trained models are VGG, ResNet, Inception, Inception-ResNet, Xception, DenseNet. Detailed descriptions can be found on this website: [Pre-trained network architectures](https://towardsdatascience.com/illustrated-10-cnn-architectures-95d78ace614d).\n",
        "\n",
        " Please have a look at the VGG architecture.\n",
        "\n",
        "# **Transfer learning**\n",
        "\n",
        "As we saw previously, convnets used for image classification comprise two parts: they start with a series of pooling and convolution layers, and they end with a densely-connected classifier. The first part is called the “convolutional base” of the model. In the case of convnets, “feature extraction” will simply consist of taking the convolutional base of a previously-trained network, running the new data through it, and training a new classifier on top of the output.\n",
        "\n",
        " Feature maps of a convnet are presence maps of generic concepts over a picture, which is likely to be useful regardless of the computer vision problem at hand. On the other end, the representations learned by the classifier will necessarily be very specific to the set of classes that the model was trained on – they will only contain information about the presence probability of this or that class in the entire picture. Additionally, representations found in densely-connected layers no longer contain any information about where objects are located in the input image: these layers get rid of the notion of space, whereas the object location is still described by convolutional feature maps. For problems where object location matters, densely-connected features would be largely useless. Note that the level of generality (and therefore reusability) of the representations extracted by specific convolution layers depends on the depth of the layer in the model. Layers that come earlier in the model extract local, highly generic feature maps (such as visual edges, colors, and textures), while layers higher-up extract more abstract concepts (such as “cat ear” or “dog eye”). So if your new dataset differs a lot from the dataset that the original model was trained on, you may be better off using only the first few layers of the model to do feature extraction, rather than using the entire convolutional base.\n",
        "\n",
        "In our case, since the ImageNet class set did contain multiple dog and cat classes, it is likely that it would be beneficial to reuse the information contained in the densely-connected layers of the original model. However, we will choose not to, in order to cover the more general case where the class set of the new problem does not overlap with the class set of the original model.Let's put this in practice by using the convolutional base of the VGG16 network, trained on ImageNet, to extract interesting features from our cat and dog images, and then training a cat vs. dog classifier on top of these features.\n",
        "\n",
        "The VGG16 model, among others, comes pre-packaged with Keras. You can import it from the keras.applications module. Here's the list of image classification models (all pre-trained on the ImageNet dataset) that are available as part of keras.applications:\n",
        "\n",
        "    Xception\n",
        "    InceptionV3\n",
        "    ResNet50\n",
        "    VGG16\n",
        "    VGG19\n",
        "    DenseNet\n",
        "    MobileNet\n",
        "\n",
        "**VGG-16 model**\n",
        "\n",
        "Import the model from Keras:\n",
        "\n"
      ]
    },
    {
      "cell_type": "code",
      "execution_count": null,
      "metadata": {
        "id": "OhJsfzWJB6IK",
        "colab": {
          "base_uri": "https://localhost:8080/"
        },
        "outputId": "75a8fbb9-3932-4552-eb60-fa03e0d0e48b"
      },
      "outputs": [
        {
          "output_type": "stream",
          "name": "stdout",
          "text": [
            "Downloading data from https://storage.googleapis.com/tensorflow/keras-applications/vgg16/vgg16_weights_tf_dim_ordering_tf_kernels_notop.h5\n",
            "58889256/58889256 [==============================] - 3s 0us/step\n"
          ]
        }
      ],
      "source": [
        "# Ex. 1.1:\n",
        "from keras.applications import VGG16\n",
        "\n",
        "conv_base = VGG16(weights='imagenet',\n",
        "                  include_top=False,\n",
        "                  input_shape=(150, 150, 3))"
      ]
    },
    {
      "cell_type": "code",
      "execution_count": null,
      "metadata": {
        "colab": {
          "base_uri": "https://localhost:8080/"
        },
        "id": "PIfZmIzJSl5g",
        "outputId": "1aa300c8-007f-464f-992a-709ab844d8e1"
      },
      "outputs": [
        {
          "output_type": "stream",
          "name": "stdout",
          "text": [
            "Model: \"vgg16\"\n",
            "_________________________________________________________________\n",
            " Layer (type)                Output Shape              Param #   \n",
            "=================================================================\n",
            " input_1 (InputLayer)        [(None, 150, 150, 3)]     0         \n",
            "                                                                 \n",
            " block1_conv1 (Conv2D)       (None, 150, 150, 64)      1792      \n",
            "                                                                 \n",
            " block1_conv2 (Conv2D)       (None, 150, 150, 64)      36928     \n",
            "                                                                 \n",
            " block1_pool (MaxPooling2D)  (None, 75, 75, 64)        0         \n",
            "                                                                 \n",
            " block2_conv1 (Conv2D)       (None, 75, 75, 128)       73856     \n",
            "                                                                 \n",
            " block2_conv2 (Conv2D)       (None, 75, 75, 128)       147584    \n",
            "                                                                 \n",
            " block2_pool (MaxPooling2D)  (None, 37, 37, 128)       0         \n",
            "                                                                 \n",
            " block3_conv1 (Conv2D)       (None, 37, 37, 256)       295168    \n",
            "                                                                 \n",
            " block3_conv2 (Conv2D)       (None, 37, 37, 256)       590080    \n",
            "                                                                 \n",
            " block3_conv3 (Conv2D)       (None, 37, 37, 256)       590080    \n",
            "                                                                 \n",
            " block3_pool (MaxPooling2D)  (None, 18, 18, 256)       0         \n",
            "                                                                 \n",
            " block4_conv1 (Conv2D)       (None, 18, 18, 512)       1180160   \n",
            "                                                                 \n",
            " block4_conv2 (Conv2D)       (None, 18, 18, 512)       2359808   \n",
            "                                                                 \n",
            " block4_conv3 (Conv2D)       (None, 18, 18, 512)       2359808   \n",
            "                                                                 \n",
            " block4_pool (MaxPooling2D)  (None, 9, 9, 512)         0         \n",
            "                                                                 \n",
            " block5_conv1 (Conv2D)       (None, 9, 9, 512)         2359808   \n",
            "                                                                 \n",
            " block5_conv2 (Conv2D)       (None, 9, 9, 512)         2359808   \n",
            "                                                                 \n",
            " block5_conv3 (Conv2D)       (None, 9, 9, 512)         2359808   \n",
            "                                                                 \n",
            " block5_pool (MaxPooling2D)  (None, 4, 4, 512)         0         \n",
            "                                                                 \n",
            "=================================================================\n",
            "Total params: 14714688 (56.13 MB)\n",
            "Trainable params: 14714688 (56.13 MB)\n",
            "Non-trainable params: 0 (0.00 Byte)\n",
            "_________________________________________________________________\n"
          ]
        }
      ],
      "source": [
        "conv_base.summary()"
      ]
    },
    {
      "cell_type": "markdown",
      "metadata": {
        "id": "j9jyMyE4CE8k"
      },
      "source": [
        " We passed three arguments to the constructor:\n",
        "\n",
        "    * weights, to specify which weight checkpoint to initialize the model from\n",
        "    * include_top, which refers to including or not the densely-connected classifier on top of the network. By default, this densely-connected classifier would correspond to the 1000 classes from ImageNet. Since we intend to use our own densely-connected classifier (with only two classes, cat and dog), we don't need to include it.\n",
        "    * input_shape, the shape of the image tensors that we will feed to the network. This argument is purely optional: if we don't pass it, then the network will be able to process inputs of any size.\n",
        "\n",
        "**Ex. 1.1** Please analyze the model of VGG-16 (model summary).\n",
        "\n",
        "**Ex. 1.2** What is the final feature map shape ? -> (4, 4, 512)\n",
        "\n",
        "At this point, there are two ways we could proceed to leverage a pre-trained network: **feature extraction** and **fine-tuning**:\n",
        "\n",
        "    * Feature Extraction: a new classifier is trained from scratch on top of the pre-trained model.\n",
        "    * Fine-Tuning: unfreezing a few of the top layers of a frozen model base and training both the newly-added classifier layers and the last layers of the base model.\n",
        "\n",
        "# **Basic feature extraction**\n",
        "\n",
        "Let's start with feature extraction - recording the output of conv_base on our data and using these outputs as inputs to a new model. We will start by simply running instances of the previously-introduced ImageDataGenerator (lab. 6) to extract images as Numpy arrays as well as their labels. We will extract features from these images simply by calling the predict method of the conv_base model. Import the required module, create the required directory, and preliminarily set up the generator."
      ]
    },
    {
      "cell_type": "code",
      "source": [
        "from google.colab import drive\n",
        "drive.mount('/content/drive')"
      ],
      "metadata": {
        "colab": {
          "base_uri": "https://localhost:8080/"
        },
        "id": "xbMxAeBzS6fm",
        "outputId": "60c217e1-1c4e-4bce-8db3-81c942b3f6a3"
      },
      "execution_count": null,
      "outputs": [
        {
          "output_type": "stream",
          "name": "stdout",
          "text": [
            "Mounted at /content/drive\n"
          ]
        }
      ]
    },
    {
      "cell_type": "code",
      "execution_count": null,
      "metadata": {
        "id": "s9Xrxu59C7-H"
      },
      "outputs": [],
      "source": [
        "import os\n",
        "import numpy as np\n",
        "from keras.preprocessing.image import ImageDataGenerator\n",
        "\n",
        "base_dir = '/content/drive/MyDrive/splits'\n",
        "\n",
        "train_dir = os.path.join(base_dir, 'train')\n",
        "validation_dir = os.path.join(base_dir, 'validation')\n",
        "test_dir = os.path.join(base_dir, 'test')\n",
        "\n",
        "datagen = ImageDataGenerator(rescale=1./255)\n",
        "batch_size = 20"
      ]
    },
    {
      "cell_type": "markdown",
      "metadata": {
        "id": "p0h5GysRC8uo"
      },
      "source": [
        "Now we construct a feature extraction function. The size of the first numpy array is: sample size * 4 * 4 * 512, corresponding to the size of the network output, then the label is naturally only a one-dimensional array of sample size. Later, generators are used to package data in batches for easy processing. The generator determines the size of the picture, and then obtains the label of the picture and stores it in the array. The label here is the name of the folder. In this example, there are two folders, so 0 and 1. The processed image is in the form of a data stream, which is equivalent to 20 pictures per batch forming a data stream, and the label is the root.\n"
      ]
    },
    {
      "cell_type": "code",
      "execution_count": null,
      "metadata": {
        "id": "1lqnHDpbDWuB"
      },
      "outputs": [],
      "source": [
        "def extract_features(directory, sample_count):\n",
        "    features = np.zeros(shape=(sample_count, 4, 4, 512))\n",
        "    labels = np.zeros(shape=(sample_count))\n",
        "    generator = datagen.flow_from_directory(\n",
        "        directory,\n",
        "        target_size=(150, 150),\n",
        "        batch_size=batch_size,\n",
        "        class_mode='binary')\n",
        "    i = 0\n",
        "    for inputs_batch, labels_batch in generator:\n",
        "        features_batch = conv_base.predict(inputs_batch)\n",
        "        features[i * batch_size : (i + 1) * batch_size] = features_batch\n",
        "        labels[i * batch_size : (i + 1) * batch_size] = labels_batch\n",
        "        i += 1\n",
        "        if i * batch_size >= sample_count:\n",
        "            # Note that since generators yield data indefinitely in a loop,\n",
        "            # we must `break` after every image has been seen once.\n",
        "            break\n",
        "    return features, labels"
      ]
    },
    {
      "cell_type": "markdown",
      "metadata": {
        "id": "i0S8tqtrDhan"
      },
      "source": [
        "In the later *for* loop, the processed data stream is input directly into the existing model and output the result. Then the result is stored in the feature array which is defined at the beginning, and the labels are stored in the labels array. In order to avoid infinite loops, a number of restrictions are added to ensure that all data is used without duplication.\n",
        "\n",
        "Here we create the training set, test set and validation set. Used this method once and keep their labels."
      ]
    },
    {
      "cell_type": "code",
      "execution_count": null,
      "metadata": {
        "id": "BdteiPPqDkqx",
        "colab": {
          "base_uri": "https://localhost:8080/"
        },
        "outputId": "086e0d9c-aa01-4791-f68a-6a1e1429d52d"
      },
      "outputs": [
        {
          "output_type": "stream",
          "name": "stdout",
          "text": [
            "Found 2000 images belonging to 2 classes.\n",
            "1/1 [==============================] - 4s 4s/step\n",
            "1/1 [==============================] - 0s 21ms/step\n",
            "1/1 [==============================] - 0s 21ms/step\n",
            "1/1 [==============================] - 0s 21ms/step\n",
            "1/1 [==============================] - 0s 21ms/step\n",
            "1/1 [==============================] - 0s 31ms/step\n",
            "1/1 [==============================] - 0s 19ms/step\n",
            "1/1 [==============================] - 0s 34ms/step\n",
            "1/1 [==============================] - 0s 21ms/step\n",
            "1/1 [==============================] - 0s 36ms/step\n",
            "1/1 [==============================] - 0s 22ms/step\n",
            "1/1 [==============================] - 0s 33ms/step\n",
            "1/1 [==============================] - 0s 29ms/step\n",
            "1/1 [==============================] - 0s 136ms/step\n",
            "1/1 [==============================] - 0s 133ms/step\n",
            "1/1 [==============================] - 0s 19ms/step\n",
            "1/1 [==============================] - 0s 26ms/step\n",
            "1/1 [==============================] - 0s 19ms/step\n",
            "1/1 [==============================] - 0s 19ms/step\n",
            "1/1 [==============================] - 0s 27ms/step\n",
            "1/1 [==============================] - 0s 21ms/step\n",
            "1/1 [==============================] - 0s 19ms/step\n",
            "1/1 [==============================] - 0s 32ms/step\n",
            "1/1 [==============================] - 0s 21ms/step\n",
            "1/1 [==============================] - 0s 20ms/step\n",
            "1/1 [==============================] - 0s 22ms/step\n",
            "1/1 [==============================] - 0s 19ms/step\n",
            "1/1 [==============================] - 0s 19ms/step\n",
            "1/1 [==============================] - 0s 20ms/step\n",
            "1/1 [==============================] - 0s 19ms/step\n",
            "1/1 [==============================] - 0s 27ms/step\n",
            "1/1 [==============================] - 0s 19ms/step\n",
            "1/1 [==============================] - 0s 21ms/step\n",
            "1/1 [==============================] - 0s 19ms/step\n",
            "1/1 [==============================] - 0s 20ms/step\n",
            "1/1 [==============================] - 0s 19ms/step\n",
            "1/1 [==============================] - 0s 19ms/step\n",
            "1/1 [==============================] - 0s 19ms/step\n",
            "1/1 [==============================] - 0s 19ms/step\n",
            "1/1 [==============================] - 0s 19ms/step\n",
            "1/1 [==============================] - 0s 19ms/step\n",
            "1/1 [==============================] - 0s 21ms/step\n",
            "1/1 [==============================] - 0s 26ms/step\n",
            "1/1 [==============================] - 0s 20ms/step\n",
            "1/1 [==============================] - 0s 19ms/step\n",
            "1/1 [==============================] - 0s 19ms/step\n",
            "1/1 [==============================] - 0s 21ms/step\n",
            "1/1 [==============================] - 0s 37ms/step\n",
            "1/1 [==============================] - 0s 20ms/step\n",
            "1/1 [==============================] - 0s 28ms/step\n",
            "1/1 [==============================] - 0s 19ms/step\n",
            "1/1 [==============================] - 0s 21ms/step\n",
            "1/1 [==============================] - 0s 20ms/step\n",
            "1/1 [==============================] - 0s 19ms/step\n",
            "1/1 [==============================] - 0s 19ms/step\n",
            "1/1 [==============================] - 0s 19ms/step\n",
            "1/1 [==============================] - 0s 24ms/step\n",
            "1/1 [==============================] - 0s 24ms/step\n",
            "1/1 [==============================] - 0s 21ms/step\n",
            "1/1 [==============================] - 0s 20ms/step\n",
            "1/1 [==============================] - 0s 29ms/step\n",
            "1/1 [==============================] - 0s 20ms/step\n",
            "1/1 [==============================] - 0s 29ms/step\n",
            "1/1 [==============================] - 0s 20ms/step\n",
            "1/1 [==============================] - 0s 20ms/step\n",
            "1/1 [==============================] - 0s 19ms/step\n",
            "1/1 [==============================] - 0s 19ms/step\n",
            "1/1 [==============================] - 0s 21ms/step\n",
            "1/1 [==============================] - 0s 19ms/step\n",
            "1/1 [==============================] - 0s 23ms/step\n",
            "1/1 [==============================] - 0s 19ms/step\n",
            "1/1 [==============================] - 0s 21ms/step\n",
            "1/1 [==============================] - 0s 21ms/step\n",
            "1/1 [==============================] - 0s 21ms/step\n",
            "1/1 [==============================] - 0s 19ms/step\n",
            "1/1 [==============================] - 0s 33ms/step\n",
            "1/1 [==============================] - 0s 19ms/step\n",
            "1/1 [==============================] - 0s 19ms/step\n",
            "1/1 [==============================] - 0s 31ms/step\n",
            "1/1 [==============================] - 0s 19ms/step\n",
            "1/1 [==============================] - 0s 20ms/step\n",
            "1/1 [==============================] - 0s 19ms/step\n",
            "1/1 [==============================] - 0s 28ms/step\n",
            "1/1 [==============================] - 0s 31ms/step\n",
            "1/1 [==============================] - 0s 19ms/step\n",
            "1/1 [==============================] - 0s 19ms/step\n",
            "1/1 [==============================] - 0s 20ms/step\n",
            "1/1 [==============================] - 0s 19ms/step\n",
            "1/1 [==============================] - 0s 20ms/step\n",
            "1/1 [==============================] - 0s 20ms/step\n",
            "1/1 [==============================] - 0s 30ms/step\n",
            "1/1 [==============================] - 0s 21ms/step\n",
            "1/1 [==============================] - 0s 19ms/step\n",
            "1/1 [==============================] - 0s 19ms/step\n",
            "1/1 [==============================] - 0s 19ms/step\n",
            "1/1 [==============================] - 0s 36ms/step\n",
            "1/1 [==============================] - 0s 22ms/step\n",
            "1/1 [==============================] - 0s 19ms/step\n",
            "1/1 [==============================] - 0s 20ms/step\n",
            "1/1 [==============================] - 0s 19ms/step\n",
            "Found 1000 images belonging to 2 classes.\n",
            "1/1 [==============================] - 0s 34ms/step\n",
            "1/1 [==============================] - 0s 21ms/step\n",
            "1/1 [==============================] - 0s 31ms/step\n",
            "1/1 [==============================] - 0s 19ms/step\n",
            "1/1 [==============================] - 0s 19ms/step\n",
            "1/1 [==============================] - 0s 19ms/step\n",
            "1/1 [==============================] - 0s 19ms/step\n",
            "1/1 [==============================] - 0s 29ms/step\n",
            "1/1 [==============================] - 0s 20ms/step\n",
            "1/1 [==============================] - 0s 20ms/step\n",
            "1/1 [==============================] - 0s 44ms/step\n",
            "1/1 [==============================] - 0s 20ms/step\n",
            "1/1 [==============================] - 0s 20ms/step\n",
            "1/1 [==============================] - 0s 19ms/step\n",
            "1/1 [==============================] - 0s 20ms/step\n",
            "1/1 [==============================] - 0s 20ms/step\n",
            "1/1 [==============================] - 0s 27ms/step\n",
            "1/1 [==============================] - 0s 20ms/step\n",
            "1/1 [==============================] - 0s 19ms/step\n",
            "1/1 [==============================] - 0s 21ms/step\n",
            "1/1 [==============================] - 0s 19ms/step\n",
            "1/1 [==============================] - 0s 30ms/step\n",
            "1/1 [==============================] - 0s 22ms/step\n",
            "1/1 [==============================] - 0s 20ms/step\n",
            "1/1 [==============================] - 0s 20ms/step\n",
            "1/1 [==============================] - 0s 20ms/step\n",
            "1/1 [==============================] - 0s 20ms/step\n",
            "1/1 [==============================] - 0s 26ms/step\n",
            "1/1 [==============================] - 0s 32ms/step\n",
            "1/1 [==============================] - 0s 21ms/step\n",
            "1/1 [==============================] - 0s 30ms/step\n",
            "1/1 [==============================] - 0s 19ms/step\n",
            "1/1 [==============================] - 0s 20ms/step\n",
            "1/1 [==============================] - 0s 20ms/step\n",
            "1/1 [==============================] - 0s 20ms/step\n",
            "1/1 [==============================] - 0s 20ms/step\n",
            "1/1 [==============================] - 0s 20ms/step\n",
            "1/1 [==============================] - 0s 19ms/step\n",
            "1/1 [==============================] - 0s 19ms/step\n",
            "1/1 [==============================] - 0s 20ms/step\n",
            "1/1 [==============================] - 0s 19ms/step\n",
            "1/1 [==============================] - 0s 20ms/step\n",
            "1/1 [==============================] - 0s 20ms/step\n",
            "1/1 [==============================] - 0s 30ms/step\n",
            "1/1 [==============================] - 0s 21ms/step\n",
            "1/1 [==============================] - 0s 20ms/step\n",
            "1/1 [==============================] - 0s 20ms/step\n",
            "1/1 [==============================] - 0s 19ms/step\n",
            "1/1 [==============================] - 0s 19ms/step\n",
            "1/1 [==============================] - 0s 27ms/step\n",
            "Found 1000 images belonging to 2 classes.\n",
            "1/1 [==============================] - 0s 19ms/step\n",
            "1/1 [==============================] - 0s 20ms/step\n",
            "1/1 [==============================] - 0s 29ms/step\n",
            "1/1 [==============================] - 0s 30ms/step\n",
            "1/1 [==============================] - 0s 19ms/step\n",
            "1/1 [==============================] - 0s 30ms/step\n",
            "1/1 [==============================] - 0s 19ms/step\n",
            "1/1 [==============================] - 0s 19ms/step\n",
            "1/1 [==============================] - 0s 22ms/step\n",
            "1/1 [==============================] - 0s 19ms/step\n",
            "1/1 [==============================] - 0s 21ms/step\n",
            "1/1 [==============================] - 0s 42ms/step\n",
            "1/1 [==============================] - 0s 21ms/step\n",
            "1/1 [==============================] - 0s 20ms/step\n",
            "1/1 [==============================] - 0s 28ms/step\n",
            "1/1 [==============================] - 0s 30ms/step\n",
            "1/1 [==============================] - 0s 19ms/step\n",
            "1/1 [==============================] - 0s 20ms/step\n",
            "1/1 [==============================] - 0s 20ms/step\n",
            "1/1 [==============================] - 0s 19ms/step\n",
            "1/1 [==============================] - 0s 21ms/step\n",
            "1/1 [==============================] - 0s 19ms/step\n",
            "1/1 [==============================] - 0s 20ms/step\n",
            "1/1 [==============================] - 0s 20ms/step\n",
            "1/1 [==============================] - 0s 25ms/step\n",
            "1/1 [==============================] - 0s 19ms/step\n",
            "1/1 [==============================] - 0s 20ms/step\n",
            "1/1 [==============================] - 0s 20ms/step\n",
            "1/1 [==============================] - 0s 20ms/step\n",
            "1/1 [==============================] - 0s 24ms/step\n",
            "1/1 [==============================] - 0s 26ms/step\n",
            "1/1 [==============================] - 0s 20ms/step\n",
            "1/1 [==============================] - 0s 19ms/step\n",
            "1/1 [==============================] - 0s 19ms/step\n",
            "1/1 [==============================] - 0s 19ms/step\n",
            "1/1 [==============================] - 0s 29ms/step\n",
            "1/1 [==============================] - 0s 20ms/step\n",
            "1/1 [==============================] - 0s 27ms/step\n",
            "1/1 [==============================] - 0s 20ms/step\n",
            "1/1 [==============================] - 0s 20ms/step\n",
            "1/1 [==============================] - 0s 19ms/step\n",
            "1/1 [==============================] - 0s 20ms/step\n",
            "1/1 [==============================] - 0s 19ms/step\n",
            "1/1 [==============================] - 0s 28ms/step\n",
            "1/1 [==============================] - 0s 19ms/step\n",
            "1/1 [==============================] - 0s 20ms/step\n",
            "1/1 [==============================] - 0s 27ms/step\n",
            "1/1 [==============================] - 0s 20ms/step\n",
            "1/1 [==============================] - 0s 31ms/step\n",
            "1/1 [==============================] - 0s 20ms/step\n"
          ]
        }
      ],
      "source": [
        "train_features, train_labels = extract_features(train_dir, 2000)\n",
        "validation_features, validation_labels = extract_features(validation_dir, 1000)\n",
        "test_features, test_labels = extract_features(test_dir, 1000)"
      ]
    },
    {
      "cell_type": "markdown",
      "metadata": {
        "id": "Q_nRyrvTDn3N"
      },
      "source": [
        " The extracted features are currently of shape (samples, 4, 4, 512). We will feed them to a densely-connected classifier.\n",
        "\n",
        "**Ex. 1.3** Define our densely-connected classifier. First, flatten the features to (samples, 8192). Then use two densely-connected layers with the dropout for regularisation. The first layer will have 256 channels and a ReLU activation function. Dropout set to 0.5. The classification layer has a Sigmoid activation function.\n",
        "\n",
        " The model summary should look like this:\n",
        "\n",
        "\n",
        "\n"
      ]
    },
    {
      "cell_type": "code",
      "execution_count": null,
      "metadata": {
        "id": "ws4VwGA-Sl5i"
      },
      "outputs": [],
      "source": [
        "from keras import models\n",
        "from keras import layers\n",
        "\n",
        "classifier = models.Sequential()\n",
        "classifier.add(layers.Input(shape=(4, 4, 512)))\n",
        "classifier.add(layers.Flatten())\n",
        "classifier.add(layers.Dense(256, activation='relu'))\n",
        "classifier.add(layers.Dropout(0.5))\n",
        "classifier.add(layers.Dense(1, activation='sigmoid'))"
      ]
    },
    {
      "cell_type": "code",
      "execution_count": null,
      "metadata": {
        "id": "PK2D7wpxDyms"
      },
      "outputs": [],
      "source": [
        "Layer (type)                 Output Shape              Param #\n",
        "=================================================================\n",
        "dense_55 (Dense)             (None, 256)               2097408\n",
        "_________________________________________________________________\n",
        "dropout (Dropout)            (None, 256)               0\n",
        "_________________________________________________________________\n",
        "dense_56 (Dense)             (None, 1)                 257\n",
        "=================================================================\n",
        "Total params: 2,097,665\n",
        "Trainable params: 2,097,665\n",
        "Non-trainable params: 0"
      ]
    },
    {
      "cell_type": "code",
      "execution_count": null,
      "metadata": {
        "colab": {
          "base_uri": "https://localhost:8080/"
        },
        "id": "zTjHbCAnSl5j",
        "outputId": "fa760ea5-207b-488e-c6a5-7103b00729c3"
      },
      "outputs": [
        {
          "output_type": "stream",
          "name": "stdout",
          "text": [
            "Model: \"sequential\"\n",
            "_________________________________________________________________\n",
            " Layer (type)                Output Shape              Param #   \n",
            "=================================================================\n",
            " flatten (Flatten)           (None, 8192)              0         \n",
            "                                                                 \n",
            " dense (Dense)               (None, 256)               2097408   \n",
            "                                                                 \n",
            " dropout (Dropout)           (None, 256)               0         \n",
            "                                                                 \n",
            " dense_1 (Dense)             (None, 1)                 257       \n",
            "                                                                 \n",
            "=================================================================\n",
            "Total params: 2097665 (8.00 MB)\n",
            "Trainable params: 2097665 (8.00 MB)\n",
            "Non-trainable params: 0 (0.00 Byte)\n",
            "_________________________________________________________________\n"
          ]
        }
      ],
      "source": [
        "classifier.summary()"
      ]
    },
    {
      "cell_type": "markdown",
      "metadata": {
        "id": "xi4VjvAkD4ja"
      },
      "source": [
        " **Ex. 1.4** Train the model using the following parameters:\n",
        "\n",
        "    RMSprop(lr=2e-5) optimizer,\n",
        "    Binary crossentropy loss function,\n",
        "    Accuracy metric.\n",
        "\n",
        "**Ex. 1.5** Fit the model with 30 epochs, batch size 20, and validation data. Training is very fast since we only have to deal with two Dense layers.\n",
        "\n",
        " Expected outcome:"
      ]
    },
    {
      "cell_type": "code",
      "execution_count": null,
      "metadata": {
        "id": "oOiHqZSzSl5j"
      },
      "outputs": [],
      "source": [
        "# Ex. 1.4:\n",
        "from keras import optimizers\n",
        "\n",
        "classifier.compile(optimizer=optimizers.RMSprop(learning_rate=2e-5),\n",
        "                   loss=\"binary_crossentropy\",\n",
        "                   metrics=[\"accuracy\"])"
      ]
    },
    {
      "cell_type": "code",
      "execution_count": null,
      "metadata": {
        "colab": {
          "base_uri": "https://localhost:8080/"
        },
        "id": "TyS5FOk2Sl5j",
        "outputId": "8314b805-2be9-459d-c4f0-8a67ed01bdd4"
      },
      "outputs": [
        {
          "output_type": "stream",
          "name": "stdout",
          "text": [
            "Epoch 1/30\n",
            "100/100 [==============================] - 3s 7ms/step - loss: 0.5913 - accuracy: 0.6855 - val_loss: 0.4449 - val_accuracy: 0.8260\n",
            "Epoch 2/30\n",
            "100/100 [==============================] - 0s 4ms/step - loss: 0.4301 - accuracy: 0.8070 - val_loss: 0.3586 - val_accuracy: 0.8700\n",
            "Epoch 3/30\n",
            "100/100 [==============================] - 0s 4ms/step - loss: 0.3634 - accuracy: 0.8440 - val_loss: 0.3259 - val_accuracy: 0.8700\n",
            "Epoch 4/30\n",
            "100/100 [==============================] - 0s 5ms/step - loss: 0.3071 - accuracy: 0.8770 - val_loss: 0.2963 - val_accuracy: 0.8810\n",
            "Epoch 5/30\n",
            "100/100 [==============================] - 0s 4ms/step - loss: 0.2790 - accuracy: 0.8840 - val_loss: 0.2880 - val_accuracy: 0.8850\n",
            "Epoch 6/30\n",
            "100/100 [==============================] - 0s 4ms/step - loss: 0.2639 - accuracy: 0.8930 - val_loss: 0.2771 - val_accuracy: 0.8890\n",
            "Epoch 7/30\n",
            "100/100 [==============================] - 0s 4ms/step - loss: 0.2465 - accuracy: 0.9035 - val_loss: 0.2583 - val_accuracy: 0.8930\n",
            "Epoch 8/30\n",
            "100/100 [==============================] - 0s 4ms/step - loss: 0.2371 - accuracy: 0.9060 - val_loss: 0.2534 - val_accuracy: 0.9010\n",
            "Epoch 9/30\n",
            "100/100 [==============================] - 0s 4ms/step - loss: 0.2213 - accuracy: 0.9160 - val_loss: 0.2493 - val_accuracy: 0.9020\n",
            "Epoch 10/30\n",
            "100/100 [==============================] - 0s 4ms/step - loss: 0.2088 - accuracy: 0.9245 - val_loss: 0.2502 - val_accuracy: 0.8970\n",
            "Epoch 11/30\n",
            "100/100 [==============================] - 0s 4ms/step - loss: 0.2011 - accuracy: 0.9250 - val_loss: 0.2534 - val_accuracy: 0.8940\n",
            "Epoch 12/30\n",
            "100/100 [==============================] - 0s 4ms/step - loss: 0.1835 - accuracy: 0.9290 - val_loss: 0.2454 - val_accuracy: 0.9060\n",
            "Epoch 13/30\n",
            "100/100 [==============================] - 1s 5ms/step - loss: 0.1789 - accuracy: 0.9370 - val_loss: 0.2422 - val_accuracy: 0.9000\n",
            "Epoch 14/30\n",
            "100/100 [==============================] - 1s 5ms/step - loss: 0.1702 - accuracy: 0.9385 - val_loss: 0.2367 - val_accuracy: 0.9030\n",
            "Epoch 15/30\n",
            "100/100 [==============================] - 1s 6ms/step - loss: 0.1674 - accuracy: 0.9340 - val_loss: 0.2345 - val_accuracy: 0.9040\n",
            "Epoch 16/30\n",
            "100/100 [==============================] - 1s 5ms/step - loss: 0.1579 - accuracy: 0.9420 - val_loss: 0.2427 - val_accuracy: 0.8990\n",
            "Epoch 17/30\n",
            "100/100 [==============================] - 1s 6ms/step - loss: 0.1568 - accuracy: 0.9420 - val_loss: 0.2405 - val_accuracy: 0.9010\n",
            "Epoch 18/30\n",
            "100/100 [==============================] - 0s 5ms/step - loss: 0.1460 - accuracy: 0.9470 - val_loss: 0.2369 - val_accuracy: 0.9020\n",
            "Epoch 19/30\n",
            "100/100 [==============================] - 0s 4ms/step - loss: 0.1374 - accuracy: 0.9535 - val_loss: 0.2328 - val_accuracy: 0.9070\n",
            "Epoch 20/30\n",
            "100/100 [==============================] - 0s 4ms/step - loss: 0.1329 - accuracy: 0.9560 - val_loss: 0.2310 - val_accuracy: 0.9030\n",
            "Epoch 21/30\n",
            "100/100 [==============================] - 0s 4ms/step - loss: 0.1220 - accuracy: 0.9595 - val_loss: 0.2310 - val_accuracy: 0.9020\n",
            "Epoch 22/30\n",
            "100/100 [==============================] - 0s 4ms/step - loss: 0.1266 - accuracy: 0.9605 - val_loss: 0.2313 - val_accuracy: 0.9050\n",
            "Epoch 23/30\n",
            "100/100 [==============================] - 0s 4ms/step - loss: 0.1217 - accuracy: 0.9625 - val_loss: 0.2315 - val_accuracy: 0.9060\n",
            "Epoch 24/30\n",
            "100/100 [==============================] - 0s 4ms/step - loss: 0.1136 - accuracy: 0.9630 - val_loss: 0.2321 - val_accuracy: 0.9040\n",
            "Epoch 25/30\n",
            "100/100 [==============================] - 0s 4ms/step - loss: 0.1124 - accuracy: 0.9620 - val_loss: 0.2300 - val_accuracy: 0.9080\n",
            "Epoch 26/30\n",
            "100/100 [==============================] - 0s 4ms/step - loss: 0.1048 - accuracy: 0.9695 - val_loss: 0.2358 - val_accuracy: 0.9020\n",
            "Epoch 27/30\n",
            "100/100 [==============================] - 0s 4ms/step - loss: 0.1025 - accuracy: 0.9665 - val_loss: 0.2452 - val_accuracy: 0.8980\n",
            "Epoch 28/30\n",
            "100/100 [==============================] - 0s 4ms/step - loss: 0.0982 - accuracy: 0.9690 - val_loss: 0.2327 - val_accuracy: 0.9050\n",
            "Epoch 29/30\n",
            "100/100 [==============================] - 0s 4ms/step - loss: 0.0933 - accuracy: 0.9730 - val_loss: 0.2330 - val_accuracy: 0.9060\n",
            "Epoch 30/30\n",
            "100/100 [==============================] - 0s 4ms/step - loss: 0.0911 - accuracy: 0.9750 - val_loss: 0.2382 - val_accuracy: 0.9040\n"
          ]
        }
      ],
      "source": [
        "# Ex. 1.5:\n",
        "history = classifier.fit(train_features, train_labels, epochs = 30, batch_size = 20, validation_data = (validation_features, validation_labels))"
      ]
    },
    {
      "cell_type": "code",
      "execution_count": null,
      "metadata": {
        "id": "yxyd9zUpD8E-"
      },
      "outputs": [],
      "source": [
        "Epoch 30/30\n",
        "2000/2000 [==============================] - 0s - loss: 0.0968 - acc: 0.9680 - val_loss: 0.2428 - val_acc: 0.9030"
      ]
    },
    {
      "cell_type": "markdown",
      "metadata": {
        "id": "iuPckUWOEKd7"
      },
      "source": [
        "**Ex. 1.6** Plot the loss and accuracy curves during training.\n",
        "\n",
        "We reach a validation accuracy of about 90%, much better than what we could achieve in the previous section with our small model trained from scratch. However, the overfitting problem is still there…"
      ]
    },
    {
      "cell_type": "code",
      "execution_count": null,
      "metadata": {
        "id": "cjAkoafhSl5j"
      },
      "outputs": [],
      "source": [
        "# Ex. 1.6:\n",
        "from matplotlib import pyplot as plt\n",
        "\n",
        "def plot_history(history_dict):\n",
        "  training_loss = history_dict['loss']\n",
        "  validation_loss = history_dict['val_loss']\n",
        "\n",
        "  training_accuracy = history_dict['accuracy']\n",
        "  validation_accuracy = history_dict['val_accuracy']\n",
        "\n",
        "  plt.figure(figsize = (12, 5))\n",
        "\n",
        "  plt.subplot(1, 2, 1)\n",
        "  plt.plot(training_loss)\n",
        "  plt.plot(validation_loss)\n",
        "  plt.title('Model loss')\n",
        "  plt.ylabel('Loss')\n",
        "  plt.xlabel('Epoch')\n",
        "  plt.legend(['Train', 'Val'], loc='upper left')\n",
        "\n",
        "  plt.subplot(1, 2, 2)\n",
        "  plt.plot(training_accuracy)\n",
        "  plt.plot(validation_accuracy)\n",
        "  plt.title('Model accuracy')\n",
        "  plt.ylabel('Accuracy')\n",
        "  plt.xlabel('Epoch')\n",
        "  plt.legend(['Train', 'Val'], loc='upper left')\n",
        "\n",
        "  plt.tight_layout()\n",
        "  plt.show()"
      ]
    },
    {
      "cell_type": "code",
      "execution_count": null,
      "metadata": {
        "colab": {
          "base_uri": "https://localhost:8080/",
          "height": 507
        },
        "id": "0hF10WAJSl5j",
        "outputId": "48098b87-762b-4478-a989-1e4717725c4d"
      },
      "outputs": [
        {
          "output_type": "display_data",
          "data": {
            "text/plain": [
              "<Figure size 1200x500 with 2 Axes>"
            ],
            "image/png": "[encoded data removed]"
          },
          "metadata": {}
        }
      ],
      "source": [
        "history_dict = history.history\n",
        "\n",
        "plot_history(history_dict)"
      ]
    },
    {
      "cell_type": "markdown",
      "metadata": {
        "id": "xpV_Gl7UEagB"
      },
      "source": [
        "Pre-trained part as an extended layer\n",
        "\n",
        "The second technique is much slower and more expensive, but allows us to leverage data augmentation during training: extending the conv_base model and running it end-to-end on the inputs. Note that this technique is in fact so expensive that you should only attempt it if you have access to a GPU: it is absolutely intractable on CPU. **If you cannot run your code on GPU, then the previous technique is the way to go.**\n",
        "\n",
        "Because models behave just like layers, you can add a model (like our conv_base) to a Sequential model just like you would add a layer. So you can do the following:"
      ]
    },
    {
      "cell_type": "code",
      "execution_count": null,
      "metadata": {
        "id": "ELQV3YgkEjze"
      },
      "outputs": [],
      "source": [
        "from keras import models\n",
        "from keras import layers\n",
        "\n",
        "\n",
        "model = models.Sequential()\n",
        "model.add(conv_base)\n",
        "model.add(layers.Input(shape=(150, 150, 3)))\n",
        "model.add(layers.Flatten())\n",
        "model.add(layers.Dense(256, activation='relu'))\n",
        "model.add(layers.Dense(1, activation='sigmoid'))"
      ]
    },
    {
      "cell_type": "code",
      "execution_count": null,
      "metadata": {
        "colab": {
          "base_uri": "https://localhost:8080/"
        },
        "id": "lT6ROmKISl5k",
        "outputId": "35b40b63-e4fc-4a83-f7fe-3fba0da2989d"
      },
      "outputs": [
        {
          "output_type": "stream",
          "name": "stdout",
          "text": [
            "Model: \"sequential_1\"\n",
            "_________________________________________________________________\n",
            " Layer (type)                Output Shape              Param #   \n",
            "=================================================================\n",
            " vgg16 (Functional)          (None, 4, 4, 512)         14714688  \n",
            "                                                                 \n",
            " input_3 (InputLayer)        multiple                  0         \n",
            "                                                                 \n",
            " flatten_1 (Flatten)         (None, 8192)              0         \n",
            "                                                                 \n",
            " dense_2 (Dense)             (None, 256)               2097408   \n",
            "                                                                 \n",
            " dense_3 (Dense)             (None, 1)                 257       \n",
            "                                                                 \n",
            "=================================================================\n",
            "Total params: 16812353 (64.13 MB)\n",
            "Trainable params: 16812353 (64.13 MB)\n",
            "Non-trainable params: 0 (0.00 Byte)\n",
            "_________________________________________________________________\n"
          ]
        }
      ],
      "source": [
        "# Ex. 2.1:\n",
        "model.summary()"
      ]
    },
    {
      "cell_type": "markdown",
      "metadata": {
        "id": "dHYc5eofSl5k"
      },
      "source": [
        "**Ex. 2.1:**\n",
        "\n",
        "Total params: 16812353\n",
        "\n",
        "Trainable params: 16812353\n",
        "\n",
        "All params are trainable."
      ]
    },
    {
      "cell_type": "markdown",
      "metadata": {
        "id": "2erplXoNEkiD"
      },
      "source": [
        "**Ex. 2.1** Please analyse the model summary. How many parameters do you have now ? How many parameters are trainable?\n",
        "\n",
        "\n",
        "Before we compile and train our model, a very important thing to do is to freeze the convolutional base. “Freezing” a layer or set of layers means preventing their weights from getting updated during training. If we don't do this, then the representations that were previously learned by the convolutional base would get modified during training. Since the Dense layers on top are randomly initialized, very large weight updates would be propagated through the network, effectively destroying the representations previously learned.\n",
        "\n",
        "In Keras, freezing a network is done by setting its trainable attribute to False:"
      ]
    },
    {
      "cell_type": "code",
      "execution_count": null,
      "metadata": {
        "id": "dGr1YvZlE1E8",
        "colab": {
          "base_uri": "https://localhost:8080/"
        },
        "outputId": "731381e9-0164-4a65-dad8-ed3a2bd5686d"
      },
      "outputs": [
        {
          "output_type": "stream",
          "name": "stdout",
          "text": [
            "This is the number of trainable weights before freezing the conv base: 30\n",
            "This is the number of trainable weights after freezing the conv base: 4\n"
          ]
        }
      ],
      "source": [
        "print('This is the number of trainable weights '\n",
        "      'before freezing the conv base:', len(model.trainable_weights))\n",
        "\n",
        "# This is the number of trainable weights before freezing the conv base: 30\n",
        "\n",
        "conv_base.trainable = False\n",
        "\n",
        "print('This is the number of trainable weights '\n",
        "      'after freezing the conv base:', len(model.trainable_weights))\n",
        "\n",
        "\n",
        "# This is the number of trainable weights after freezing the conv base: 4"
      ]
    },
    {
      "cell_type": "markdown",
      "metadata": {
        "id": "u-NR-FdnE19s"
      },
      "source": [
        "With this setup, only the weights from the two Dense layers that we added will be trained. That's a total of four weight tensors: two per layer (the main weight matrix and the bias vector). Note that in order for these changes to take effect, we must first compile the model. If you ever modify weight trainability after compilation, you should then re-compile the model, or these changes would be ignored.\n",
        "\n",
        "**Ex. 2.2** Implement and fit the model like in the previous labs (with data augmentation). If the process takes too much time, please instead read saved model from the following repository:[Model](https://github.com/vakarpus/UWCC-ML410-Spring2018). Check the summary."
      ]
    },
    {
      "cell_type": "code",
      "execution_count": null,
      "metadata": {
        "id": "8aJfKAbjFSFI",
        "colab": {
          "base_uri": "https://localhost:8080/"
        },
        "outputId": "28e247dd-c7c0-45c2-ef66-a28b55e3700b"
      },
      "outputs": [
        {
          "output_type": "stream",
          "name": "stdout",
          "text": [
            "Found 2000 images belonging to 2 classes.\n",
            "Found 1000 images belonging to 2 classes.\n"
          ]
        },
        {
          "output_type": "stream",
          "name": "stderr",
          "text": [
            "<ipython-input-16-d786cf416def>:35: UserWarning: `Model.fit_generator` is deprecated and will be removed in a future version. Please use `Model.fit`, which supports generators.\n",
            "  history = model.fit_generator(\n"
          ]
        },
        {
          "output_type": "stream",
          "name": "stdout",
          "text": [
            "Epoch 1/30\n",
            "100/100 - 31s - loss: 0.5958 - accuracy: 0.6770 - val_loss: 0.4406 - val_accuracy: 0.8470 - 31s/epoch - 306ms/step\n",
            "Epoch 2/30\n",
            "100/100 - 24s - loss: 0.4824 - accuracy: 0.7875 - val_loss: 0.3631 - val_accuracy: 0.8730 - 24s/epoch - 243ms/step\n",
            "Epoch 3/30\n",
            "100/100 - 24s - loss: 0.4407 - accuracy: 0.8110 - val_loss: 0.3254 - val_accuracy: 0.8690 - 24s/epoch - 240ms/step\n",
            "Epoch 4/30\n",
            "100/100 - 25s - loss: 0.4125 - accuracy: 0.8165 - val_loss: 0.3207 - val_accuracy: 0.8800 - 25s/epoch - 255ms/step\n",
            "Epoch 5/30\n",
            "100/100 - 26s - loss: 0.3862 - accuracy: 0.8350 - val_loss: 0.2918 - val_accuracy: 0.8760 - 26s/epoch - 259ms/step\n",
            "Epoch 6/30\n",
            "100/100 - 24s - loss: 0.3857 - accuracy: 0.8215 - val_loss: 0.2773 - val_accuracy: 0.8930 - 24s/epoch - 245ms/step\n",
            "Epoch 7/30\n",
            "100/100 - 25s - loss: 0.3566 - accuracy: 0.8455 - val_loss: 0.2765 - val_accuracy: 0.8790 - 25s/epoch - 252ms/step\n",
            "Epoch 8/30\n",
            "100/100 - 25s - loss: 0.3572 - accuracy: 0.8420 - val_loss: 0.2629 - val_accuracy: 0.8950 - 25s/epoch - 246ms/step\n",
            "Epoch 9/30\n",
            "100/100 - 25s - loss: 0.3348 - accuracy: 0.8485 - val_loss: 0.2641 - val_accuracy: 0.8880 - 25s/epoch - 251ms/step\n",
            "Epoch 10/30\n",
            "100/100 - 25s - loss: 0.3546 - accuracy: 0.8345 - val_loss: 0.2572 - val_accuracy: 0.9000 - 25s/epoch - 249ms/step\n",
            "Epoch 11/30\n",
            "100/100 - 25s - loss: 0.3313 - accuracy: 0.8600 - val_loss: 0.2560 - val_accuracy: 0.9020 - 25s/epoch - 248ms/step\n",
            "Epoch 12/30\n",
            "100/100 - 25s - loss: 0.3332 - accuracy: 0.8505 - val_loss: 0.2552 - val_accuracy: 0.9010 - 25s/epoch - 251ms/step\n",
            "Epoch 13/30\n",
            "100/100 - 24s - loss: 0.3206 - accuracy: 0.8665 - val_loss: 0.2755 - val_accuracy: 0.8790 - 24s/epoch - 243ms/step\n",
            "Epoch 14/30\n",
            "100/100 - 24s - loss: 0.3153 - accuracy: 0.8590 - val_loss: 0.2525 - val_accuracy: 0.9000 - 24s/epoch - 244ms/step\n",
            "Epoch 15/30\n",
            "100/100 - 24s - loss: 0.3155 - accuracy: 0.8610 - val_loss: 0.2546 - val_accuracy: 0.8980 - 24s/epoch - 242ms/step\n",
            "Epoch 16/30\n",
            "100/100 - 24s - loss: 0.3075 - accuracy: 0.8700 - val_loss: 0.2631 - val_accuracy: 0.8850 - 24s/epoch - 243ms/step\n",
            "Epoch 17/30\n",
            "100/100 - 25s - loss: 0.3058 - accuracy: 0.8625 - val_loss: 0.2482 - val_accuracy: 0.9020 - 25s/epoch - 247ms/step\n",
            "Epoch 18/30\n",
            "100/100 - 25s - loss: 0.3144 - accuracy: 0.8610 - val_loss: 0.2452 - val_accuracy: 0.9060 - 25s/epoch - 247ms/step\n",
            "Epoch 19/30\n",
            "100/100 - 26s - loss: 0.3043 - accuracy: 0.8680 - val_loss: 0.2404 - val_accuracy: 0.9070 - 26s/epoch - 258ms/step\n",
            "Epoch 20/30\n",
            "100/100 - 24s - loss: 0.2948 - accuracy: 0.8775 - val_loss: 0.2414 - val_accuracy: 0.9000 - 24s/epoch - 241ms/step\n",
            "Epoch 21/30\n",
            "100/100 - 24s - loss: 0.2935 - accuracy: 0.8760 - val_loss: 0.2432 - val_accuracy: 0.9040 - 24s/epoch - 235ms/step\n",
            "Epoch 22/30\n",
            "100/100 - 24s - loss: 0.3009 - accuracy: 0.8615 - val_loss: 0.2390 - val_accuracy: 0.9000 - 24s/epoch - 241ms/step\n",
            "Epoch 23/30\n",
            "100/100 - 24s - loss: 0.3099 - accuracy: 0.8665 - val_loss: 0.2361 - val_accuracy: 0.9050 - 24s/epoch - 244ms/step\n",
            "Epoch 24/30\n",
            "100/100 - 24s - loss: 0.2797 - accuracy: 0.8800 - val_loss: 0.2368 - val_accuracy: 0.9010 - 24s/epoch - 241ms/step\n",
            "Epoch 25/30\n",
            "100/100 - 24s - loss: 0.2932 - accuracy: 0.8730 - val_loss: 0.2368 - val_accuracy: 0.9030 - 24s/epoch - 240ms/step\n",
            "Epoch 26/30\n",
            "100/100 - 25s - loss: 0.2920 - accuracy: 0.8780 - val_loss: 0.2357 - val_accuracy: 0.9030 - 25s/epoch - 253ms/step\n",
            "Epoch 27/30\n",
            "100/100 - 24s - loss: 0.2916 - accuracy: 0.8785 - val_loss: 0.2385 - val_accuracy: 0.9040 - 24s/epoch - 236ms/step\n",
            "Epoch 28/30\n",
            "100/100 - 24s - loss: 0.2918 - accuracy: 0.8740 - val_loss: 0.2354 - val_accuracy: 0.9050 - 24s/epoch - 240ms/step\n",
            "Epoch 29/30\n",
            "100/100 - 24s - loss: 0.2826 - accuracy: 0.8775 - val_loss: 0.2368 - val_accuracy: 0.9050 - 24s/epoch - 244ms/step\n",
            "Epoch 30/30\n",
            "100/100 - 25s - loss: 0.2798 - accuracy: 0.8805 - val_loss: 0.2365 - val_accuracy: 0.9050 - 25s/epoch - 245ms/step\n"
          ]
        }
      ],
      "source": [
        "from keras.preprocessing.image import ImageDataGenerator\n",
        "\n",
        "train_datagen = ImageDataGenerator(\n",
        "      rescale=1./255,\n",
        "      rotation_range=40,\n",
        "      width_shift_range=0.2,\n",
        "      height_shift_range=0.2,\n",
        "      shear_range=0.2,\n",
        "      zoom_range=0.2,\n",
        "      horizontal_flip=True,\n",
        "      fill_mode='nearest')\n",
        "\n",
        "# Note that the validation data should not be augmented!\n",
        "test_datagen = ImageDataGenerator(rescale=1./255)\n",
        "\n",
        "train_generator = train_datagen.flow_from_directory(\n",
        "        # This is the target directory\n",
        "        train_dir,\n",
        "        # All images will be resized to 150x150\n",
        "        target_size=(150, 150),\n",
        "        batch_size=20,\n",
        "        # Since we use binary_crossentropy loss, we need binary labels\n",
        "        class_mode='binary')\n",
        "\n",
        "validation_generator = test_datagen.flow_from_directory(\n",
        "        validation_dir,\n",
        "        target_size=(150, 150),\n",
        "        batch_size=20,\n",
        "        class_mode='binary')\n",
        "\n",
        "model.compile(loss='binary_crossentropy',\n",
        "              optimizer=optimizers.RMSprop(learning_rate=2e-5),\n",
        "              metrics=['accuracy'])\n",
        "\n",
        "history = model.fit_generator(\n",
        "      train_generator,\n",
        "      steps_per_epoch=100,\n",
        "      epochs=30,\n",
        "      validation_data=validation_generator,\n",
        "      validation_steps=50,\n",
        "      verbose=2)"
      ]
    },
    {
      "cell_type": "code",
      "execution_count": null,
      "metadata": {
        "colab": {
          "base_uri": "https://localhost:8080/",
          "height": 507
        },
        "id": "p8N8L8t5Sl5l",
        "outputId": "99f93137-56d8-49fc-8849-2b9b77994aa7"
      },
      "outputs": [
        {
          "output_type": "display_data",
          "data": {
            "text/plain": [
              "<Figure size 1200x500 with 2 Axes>"
            ],
            "image/png": "[encoded data removed]"
          },
          "metadata": {}
        }
      ],
      "source": [
        "# Ex. 2.3:\n",
        "history_dict = history.history\n",
        "\n",
        "plot_history(history_dict)"
      ]
    },
    {
      "cell_type": "markdown",
      "metadata": {
        "id": "uP4bdOGqFTko"
      },
      "source": [
        " **Ex. 2.3** Plot the results.\n",
        "\n",
        "# **Fine-tuning**\n",
        "\n",
        "Another widely used technique for model reuse, complementary to feature extraction, is fine-tuning. Fine-tuning consists of unfreezing a few of the top layers of a frozen model base used for feature extraction, and jointly training both the newly added part of the model (in our case, the fully-connected classifier) and these top layers. This is called “fine-tuning” because it slightly adjusts the more abstract representations of the model being reused, in order to make them more relevant for the problem at hand.\n",
        "\n",
        "Please have a look at the VGG-16 architecture |[VGG-16](https://neurohive.io/en/popular-networks/vgg16/)\n",
        "\n",
        "We have stated before that it was necessary to freeze the convolution base of VGG16 in order to be able to train a randomly initialized classifier on top. For the same reason, it is only possible to fine-tune the top layers of the convolutional base once the classifier on top has already been trained. If the classified wasn't already trained, then the error signal propagating through the network during training would be too large, and the representations previously learned by the layers being fine-tuned would be destroyed. Thus the steps for fine-tuning a network are as follow:\n",
        "\n",
        "1. Add your custom network on top of an already trained base network.\n",
        "2. Freeze the base network.\n",
        "3. Train the part you added.\n",
        "4. Unfreeze some layers in the base network.\n",
        "5. Jointly train both these layers and the part you added.\n",
        "\n",
        "We have already completed the first 3 steps when doing feature extraction. Let's proceed with the 4th step: we will unfreeze our conv_base, and then freeze individual layers inside of it.\n",
        "\n",
        "**Ex. 3.1** Analyse the conv_base.summary().\n",
        "\n",
        "We will fine-tune the last 3 convolutional layers, which means that all layers up until block4_pool should be frozen, and the layers block5_conv1, block5_conv2 and block5_conv3 should be trainable. Why not fine-tune more layers? Why not fine-tune the entire convolutional base? We could. However, we need to consider that:\n",
        "\n",
        "    * Earlier layers in the convolutional base encode more generic, reusable features, while layers higher up encode more specialized features. It is more useful to fine-tune the more specialized features, as these are the ones that need to be repurposed on our new problem. There would be fast-decreasing returns in fine-tuning lower layers.\n",
        "    * The more parameters we are training, the more we are at risk of overfitting. The convolutional base has 15M parameters, so it would be risky to attempt to train it on our small dataset.\n",
        "\n",
        "\n",
        "Thus, in our situation, it is a good strategy to only fine-tune the top 2 to 3 layers in the convolutional base.\n",
        "\n",
        "Let's set this up, starting from where we left off in the previous example:"
      ]
    },
    {
      "cell_type": "code",
      "execution_count": null,
      "metadata": {
        "colab": {
          "base_uri": "https://localhost:8080/"
        },
        "id": "-2ySREycSl5l",
        "outputId": "f73aa4f0-19c4-45cb-f80b-b1f5e2ec2f2e"
      },
      "outputs": [
        {
          "output_type": "stream",
          "name": "stdout",
          "text": [
            "Model: \"vgg16\"\n",
            "_________________________________________________________________\n",
            " Layer (type)                Output Shape              Param #   \n",
            "=================================================================\n",
            " input_1 (InputLayer)        [(None, 150, 150, 3)]     0         \n",
            "                                                                 \n",
            " block1_conv1 (Conv2D)       (None, 150, 150, 64)      1792      \n",
            "                                                                 \n",
            " block1_conv2 (Conv2D)       (None, 150, 150, 64)      36928     \n",
            "                                                                 \n",
            " block1_pool (MaxPooling2D)  (None, 75, 75, 64)        0         \n",
            "                                                                 \n",
            " block2_conv1 (Conv2D)       (None, 75, 75, 128)       73856     \n",
            "                                                                 \n",
            " block2_conv2 (Conv2D)       (None, 75, 75, 128)       147584    \n",
            "                                                                 \n",
            " block2_pool (MaxPooling2D)  (None, 37, 37, 128)       0         \n",
            "                                                                 \n",
            " block3_conv1 (Conv2D)       (None, 37, 37, 256)       295168    \n",
            "                                                                 \n",
            " block3_conv2 (Conv2D)       (None, 37, 37, 256)       590080    \n",
            "                                                                 \n",
            " block3_conv3 (Conv2D)       (None, 37, 37, 256)       590080    \n",
            "                                                                 \n",
            " block3_pool (MaxPooling2D)  (None, 18, 18, 256)       0         \n",
            "                                                                 \n",
            " block4_conv1 (Conv2D)       (None, 18, 18, 512)       1180160   \n",
            "                                                                 \n",
            " block4_conv2 (Conv2D)       (None, 18, 18, 512)       2359808   \n",
            "                                                                 \n",
            " block4_conv3 (Conv2D)       (None, 18, 18, 512)       2359808   \n",
            "                                                                 \n",
            " block4_pool (MaxPooling2D)  (None, 9, 9, 512)         0         \n",
            "                                                                 \n",
            " block5_conv1 (Conv2D)       (None, 9, 9, 512)         2359808   \n",
            "                                                                 \n",
            " block5_conv2 (Conv2D)       (None, 9, 9, 512)         2359808   \n",
            "                                                                 \n",
            " block5_conv3 (Conv2D)       (None, 9, 9, 512)         2359808   \n",
            "                                                                 \n",
            " block5_pool (MaxPooling2D)  (None, 4, 4, 512)         0         \n",
            "                                                                 \n",
            "=================================================================\n",
            "Total params: 14714688 (56.13 MB)\n",
            "Trainable params: 0 (0.00 Byte)\n",
            "Non-trainable params: 14714688 (56.13 MB)\n",
            "_________________________________________________________________\n"
          ]
        }
      ],
      "source": [
        "# Ex. 3.1:\n",
        "conv_base.summary()"
      ]
    },
    {
      "cell_type": "code",
      "execution_count": null,
      "metadata": {
        "id": "nJbBmr5-GHOq"
      },
      "outputs": [],
      "source": [
        "conv_base.trainable = True\n",
        "\n",
        "set_trainable = False\n",
        "for layer in conv_base.layers:\n",
        "    if layer.name == 'block5_conv1':\n",
        "        set_trainable = True\n",
        "    if set_trainable:\n",
        "        layer.trainable = True\n",
        "    else:\n",
        "        layer.trainable = False"
      ]
    },
    {
      "cell_type": "markdown",
      "metadata": {
        "id": "xRq_PiXmGH5U"
      },
      "source": [
        "Now we can start fine-tuning our network. We will do this with the RMSprop optimizer, using a very low learning rate. The reason for using a low learning rate is that we want to limit the magnitude of the modifications we make to the representations of the 3 layers that we are fine-tuning. Updates that are too large may harm these representations.\n",
        "\n",
        "Now let's proceed with fine-tuning (like before read the model weights from [model h5](https://github.com/vakarpus/UWCC-ML410-Spring2018/blob/master/cats_and_dogs_small_4.h5)):"
      ]
    },
    {
      "cell_type": "markdown",
      "source": [
        "# !! Z tym konspektem to jest mój max w tym miejscu, albo już wcześniej lokalnie mam błędy, których nie mogę rozwiązać w żaden sposób (coś z wersjami bibliotek chyba), albo Colab rozłącza mi się w trakcie/ brakuje zasobów GPU.\n",
        "\n",
        "# Ale kod powinien działać."
      ],
      "metadata": {
        "id": "qoltSrchNvU4"
      }
    },
    {
      "cell_type": "code",
      "execution_count": null,
      "metadata": {
        "id": "a9dMJiK0Gggr"
      },
      "outputs": [],
      "source": [
        "model.compile(loss='binary_crossentropy',\n",
        "              optimizer=optimizers.RMSprop(learning_rate=1e-5),\n",
        "              metrics=['acc'])\n",
        "\n",
        "history = model.fit_generator(\n",
        "      train_generator,\n",
        "      steps_per_epoch=100,\n",
        "      epochs=100,\n",
        "      validation_data=validation_generator,\n",
        "      validation_steps=50,\n",
        "      callbacks=callbacks_list)"
      ]
    },
    {
      "cell_type": "markdown",
      "metadata": {
        "id": "7M6HpDTrGhQr"
      },
      "source": [
        "**Ex. 3.2** Plot your results using the same plotting code as before. Smooth the curves/plots using following code:"
      ]
    },
    {
      "cell_type": "code",
      "execution_count": null,
      "metadata": {
        "id": "li0ig1CdSl5m"
      },
      "outputs": [],
      "source": [
        "history_dict = history.history\n",
        "\n",
        "acc = history_dict['accuracy']\n",
        "val_acc = history_dict['val_accuracy']\n",
        "loss = history_dict['loss']\n",
        "val_loss = history_dict['val_loss']\n",
        "epochs = range(len(acc))\n",
        "\n",
        "\"\"\"\n",
        "plt.plot(epochs, acc, 'b', label='Dokladnosc trenowania')\n",
        "plt.plot(epochs, val_acc, 'r', label='Dokladnosc walidacji')\n",
        "plt.title('Dokladnosc trenowania i walidacji')\n",
        "plt.legend()\n",
        "\n",
        "plt.figure()\n",
        "\n",
        "plt.plot(epochs, loss, 'bo', label='Strata trenowania')\n",
        "plt.plot(epochs, val_loss, 'ro', label='Strata walidacji')\n",
        "plt.title('Strata trenowania i walidacji')\n",
        "plt.legend()\n",
        "\n",
        "plt.show()\n",
        "\"\"\""
      ]
    },
    {
      "cell_type": "code",
      "execution_count": null,
      "metadata": {
        "id": "DK7Ew46kGm9N"
      },
      "outputs": [],
      "source": [
        "def smooth_curve(points, factor=0.8):\n",
        "  smoothed_points = []\n",
        "  for point in points:\n",
        "    if smoothed_points:\n",
        "      previous = smoothed_points[-1]\n",
        "      smoothed_points.append(previous * factor + point * (1 - factor))\n",
        "    else:\n",
        "      smoothed_points.append(point)\n",
        "  return smoothed_points\n",
        "\n",
        "plt.plot(epochs,\n",
        "         smooth_curve(acc), 'bo', label='Smoothed training acc')\n",
        "plt.plot(epochs,\n",
        "         smooth_curve(val_acc), 'b', label='Smoothed validation acc')\n",
        "plt.title('Training and validation accuracy')\n",
        "plt.legend()\n",
        "\n",
        "plt.figure()\n",
        "\n",
        "plt.plot(epochs,\n",
        "         smooth_curve(loss), 'bo', label='Smoothed training loss')\n",
        "plt.plot(epochs,\n",
        "         smooth_curve(val_loss), 'b', label='Smoothed validation loss')\n",
        "plt.title('Training and validation loss')\n",
        "plt.legend()\n",
        "\n",
        "plt.show()"
      ]
    },
    {
      "cell_type": "markdown",
      "metadata": {
        "id": "bqGJIVczGtRi"
      },
      "source": [
        "**Ex. 3.3** Evaluate this model on the test data:"
      ]
    },
    {
      "cell_type": "code",
      "execution_count": null,
      "metadata": {
        "id": "pEBgSiB5Gxzq"
      },
      "outputs": [],
      "source": [
        "test_generator = test_datagen.flow_from_directory(\n",
        "        test_dir,\n",
        "        target_size=(150, 150),\n",
        "        batch_size=20,\n",
        "        class_mode='binary')\n",
        "\n",
        "test_loss, test_acc = model.evaluate_generator(test_generator, steps=50)\n",
        "print('test acc:', test_acc)\n",
        "\n",
        "# test acc: 0.96799999237"
      ]
    },
    {
      "cell_type": "markdown",
      "metadata": {
        "id": "_YRf-_y8G1ze"
      },
      "source": [
        "Here we got a test accuracy of 97%. In the original Kaggle competition around this dataset, this would have been one of the top results. However, using modern deep learning techniques, we managed to reach this result using only a very small fraction of the training data available (about 10%). There is a huge difference between being able to train on 20,000 samples compared to 2,000 samples!"
      ]
    }
  ],
  "metadata": {
    "accelerator": "GPU",
    "colab": {
      "gpuType": "T4",
      "provenance": []
    },
    "kernelspec": {
      "display_name": "Python 3",
      "name": "python3"
    },
    "language_info": {
      "codemirror_mode": {
        "name": "ipython",
        "version": 3
      },
      "file_extension": ".py",
      "mimetype": "text/x-python",
      "name": "python",
      "nbconvert_exporter": "python",
      "pygments_lexer": "ipython3",
      "version": "3.11.4"
    }
  },
  "nbformat": 4,
  "nbformat_minor": 0
}